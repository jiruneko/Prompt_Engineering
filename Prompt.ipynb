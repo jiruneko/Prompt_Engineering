{
  "nbformat": 4,
  "nbformat_minor": 0,
  "metadata": {
    "colab": {
      "provenance": [],
      "authorship_tag": "ABX9TyNy15v0yWSJfdTgIwnhEFO5",
      "include_colab_link": true
    },
    "kernelspec": {
      "name": "python3",
      "display_name": "Python 3"
    },
    "language_info": {
      "name": "python"
    }
  },
  "cells": [
    {
      "cell_type": "markdown",
      "metadata": {
        "id": "view-in-github",
        "colab_type": "text"
      },
      "source": [
        "<a href=\"https://colab.research.google.com/github/jiruneko/Prompt_Engineering/blob/main/Prompt.ipynb\" target=\"_parent\"><img src=\"https://colab.research.google.com/assets/colab-badge.svg\" alt=\"Open In Colab\"/></a>"
      ]
    },
    {
      "cell_type": "code",
      "source": [
        "from google.colab import userdata\n",
        "import os\n",
        "\n",
        "os.environ[\"OPENAI_API_KEY\"] = userdata.get(\"OPENAI_API_KEY\")\n",
        "\n",
        "from openai import OpenAI\n",
        "\n",
        "client = OpenAI()\n",
        "\n",
        "response = client.chat.completions.create(\n",
        "    model=\"gpt-4o-mini\",\n",
        "    messages=[\n",
        "        {\"role\": \"user\", \"content\": \"プロンプトエンジニアリングとはなんですか\"},\n",
        "    ],\n",
        ")\n",
        "print(response.choices[0].message.content)"
      ],
      "metadata": {
        "colab": {
          "base_uri": "https://localhost:8080/"
        },
        "id": "4V4FTxtOCMWc",
        "outputId": "fb9a0455-a82e-4e21-fd7f-7357174a3ea6"
      },
      "execution_count": null,
      "outputs": [
        {
          "output_type": "stream",
          "name": "stdout",
          "text": [
            "プロンプトエンジニアリングとは、主に自然言語処理（NLP）や生成モデル（特に大規模言語モデル）の文脈において、効果的なプロンプト（指示や質問）を設計・調整する技術やプロセスのことを指します。プロンプトとは、モデルに対して求める応答を引き出すための入力データのことです。\n",
            "\n",
            "プロンプトエンジニアリングの目的は、モデルが望ましい応答を生成できるようにすることであり、これには以下のような要素が含まれます：\n",
            "\n",
            "1. **明確性**: プロンプトは明確で具体的である必要があります。曖昧なプロンプトでは、予想外の結果が得られることがあります。\n",
            "\n",
            "2. **コンテキスト**: 背景情報や必要なコンテキストを提供することで、モデルがより適切な応答を生成できるようにします。\n",
            "\n",
            "3. **フォーマット**: プロンプトの形式やスタイルを調整することで、モデルの応答の質や形式を変えることが可能です。\n",
            "\n",
            "4. **反復的な改良**: 初期のプロンプトを基に、生成される応答を分析し、必要に応じてプロンプトを修正することで、最適化を図ります。\n",
            "\n",
            "このようなプロンプトエンジニアリングを行うことで、ユーザーは生成モデルの性能を最大限に引き出し、より有用な結果を得ることができます。最近では、AIチャットボットや文章生成ツールなど、多くのアプリケーションでその重要性が高まっています。\n"
          ]
        }
      ]
    },
    {
      "cell_type": "code",
      "source": [
        "response = client.chat.completions.create(\n",
        "    model=\"gpt-4o-mini\",\n",
        "    messages=[\n",
        "        {\"role\": \"system\", \"content\": \"質問に100文字程度で答えてください。\"},\n",
        "        {\"role\": \"user\", \"content\": \"プロンプトエンジニアリングとはなんですか\"},\n",
        "    ],\n",
        ")\n",
        "print(response.choices[0].message.content)"
      ],
      "metadata": {
        "colab": {
          "base_uri": "https://localhost:8080/"
        },
        "id": "grL5kSeLCV52",
        "outputId": "5e5b9026-df66-4308-cf79-4fd99f9d3e89"
      },
      "execution_count": null,
      "outputs": [
        {
          "output_type": "stream",
          "name": "stdout",
          "text": [
            "プロンプトエンジニアリングとは、AIモデル（特に生成モデル）に対して最適な入力（プロンプト）を設計する技術です。これにより、期待する出力を引き出し、 AIの性能を向上させることが目的です。さまざまなパラメータや表現を工夫して試行錯誤するプロセスです。\n"
          ]
        }
      ]
    },
    {
      "cell_type": "code",
      "source": [
        "prompt = '''\\\n",
        "以下の料理のレシピを教えてください。\n",
        "料理名：\"\"\"\n",
        "{dish}\n",
        "\"\"\"\n",
        "'''\n",
        "\n",
        "def generate_recipe(dish: str) -> str:\n",
        "  response = client.chat.completions.create(\n",
        "      model=\"gpt-4o-mini\",\n",
        "      messages=[\n",
        "          {\"role\": \"system\", \"content\": prompt.format(dish=dish)},\n",
        "      ],\n",
        "  )\n",
        "  return response.choices[0].message.content\n",
        "\n",
        "recipe = generate_recipe(\"カレー\")\n",
        "print(recipe)"
      ],
      "metadata": {
        "colab": {
          "base_uri": "https://localhost:8080/"
        },
        "id": "AfVb8e39FDuD",
        "outputId": "4093b94d-0cc3-45ea-e02a-2b3379db0d2c"
      },
      "execution_count": null,
      "outputs": [
        {
          "output_type": "stream",
          "name": "stdout",
          "text": [
            "カレーのレシピをご紹介します。日本のカレーの基本的な作り方ですが、好みに応じて材料やスパイスを調整して楽しんでください。\n",
            "\n",
            "### 材料（4人分）\n",
            "\n",
            "- 鶏肉（または牛肉、豚肉、または豆類）: 400g\n",
            "- 玉ねぎ: 2個\n",
            "- にんじん: 1本\n",
            "- じゃがいも: 2個\n",
            "- カレールウ: 1箱（約200g）\n",
            "- 水: 800ml\n",
            "- サラダ油: 大さじ2\n",
            "- 塩: 適量\n",
            "- こしょう: 適量\n",
            "\n",
            "### 作り方\n",
            "\n",
            "1. **材料の下ごしらえ**:\n",
            "   - 肉は一口大に切ります。\n",
            "   - 玉ねぎは薄切りに、にんじんは輪切りまたは半月切り、じゃがいもは皮をむいて一口大に切ります。\n",
            "\n",
            "2. **炒める**:\n",
            "   - 大きめの鍋にサラダ油を熱し、玉ねぎを加え、中火で炒めます。玉ねぎが透明になるまで炒めます。\n",
            "\n",
            "3. **肉を加える**:\n",
            "   - 玉ねぎが透明になったら、肉を加え、表面が白くなるまで炒めます。\n",
            "\n",
            "4. **野菜を加える**:\n",
            "   - にんじんとじゃがいもを加え、全体をよく混ぜ合わせてさらに炒めます。\n",
            "\n",
            "5. **水を加える**:\n",
            "   - 材料がひたひたになるくらいに水を加え、強火にして沸騰させます。その後、アクを取り除きます。\n",
            "\n",
            "6. **煮込む**:\n",
            "   - 中火にして蓋をし、約15〜20分、じゃがいもが柔らかくなるまで煮込みます。\n",
            "\n",
            "7. **カレールウを加える**:\n",
            "   - 火を弱め、カレールウを加え、よく溶かします。とろみがつくまでさらに5〜10分煮込みます。\n",
            "\n",
            "8. **仕上げ**:\n",
            "   - 最後に塩とこしょうで味を整えます。\n",
            "\n",
            "### 提供\n",
            "\n",
            "ご飯の上にカレーをかけて、お好みで福神漬けやらっきょうを添えて召し上がれ！ \n",
            "\n",
            "このレシピを基に、辛さや具材をアレンジして自分好みのカレーを楽しんでください。\n"
          ]
        }
      ]
    },
    {
      "cell_type": "code",
      "source": [
        "def generate_recipe(dish:str)-> str:\n",
        "  response = client.chat.completions.create(\n",
        "      model=\"gpt-4o-mini\",\n",
        "      messages=[\n",
        "          {\"role\": \"system\", \"content\": \"ユーザーが入力した料理のレシピを考えてください。\"},\n",
        "          {\"role\": \"user\", \"content\": f\"{dish}\"},\n",
        "      ],\n",
        "  )\n",
        "  return response.choices[0].message.content\n",
        "\n",
        "recipe = generate_recipe(\"焼きぎょうざ\")\n",
        "print(recipe)"
      ],
      "metadata": {
        "colab": {
          "base_uri": "https://localhost:8080/"
        },
        "id": "G7ERbONzHfFd",
        "outputId": "faadcaa7-17e2-411f-ed75-0a7eca28c0ff"
      },
      "execution_count": null,
      "outputs": [
        {
          "output_type": "stream",
          "name": "stdout",
          "text": [
            "焼き餃子のレシピをご紹介します。おいしい焼き餃子を作るには、具材のバランスや焼き方がポイントです。\n",
            "\n",
            "### 材料（約20個分）\n",
            "- 餃子の皮：20枚\n",
            "- 豚ひき肉：200g\n",
            "- キャベツ：100g（みじん切り）\n",
            "- ニラ：50g（みじん切り）\n",
            "- 長ねぎ：1本（みじん切り）\n",
            "- 生姜：1片（みじん切り）\n",
            "- にんにく：1片（みじん切り）\n",
            "- 塩：小さじ1/2\n",
            "- こしょう：少々\n",
            "- 醤油：大さじ1\n",
            "- ごま油：大さじ1\n",
            "- 片栗粉：小さじ1（オプション）\n",
            "- 水：適量\n",
            "- サラダ油：適量（焼く用）\n",
            "\n",
            "### 作り方\n",
            "\n",
            "1. **具材の下準備**:\n",
            "   - キャベツは塩をまぶして5分ほど置き、水分を絞ります。\n",
            "   - ニラ、長ねぎ、生姜、にんにくもそれぞれみじん切りにします。\n",
            "\n",
            "2. **具を混ぜる**:\n",
            "   - ボウルに豚ひき肉、絞ったキャベツ、ニラ、長ねぎ、生姜、にんにくを入れます。\n",
            "   - 塩、こしょう、醤油、ごま油を加え、全体がよく混ざるまで手またはスプーンでこねます。お好みで片栗粉を加えても良いです。\n",
            "\n",
            "3. **餃子を包む**:\n",
            "   - 餃子の皮を手に取り、中央に具材を小さじ1程度乗せます（あまり多すぎないように注意）。\n",
            "   - 皮の周囲に水を少しつけて、半分に折りたたみ、端をしっかりと押さえて閉じます。ヒダを作ると見た目が美しくなります。\n",
            "\n",
            "4. **焼く**:\n",
            "   - フライパンにサラダ油を熱し、餃子を並べます。中火で底がきつね色になるまで焼きます（約3〜4分）。\n",
            "   - 水を餃子の1/3が浸るくらいまで注ぎ、蓋をして蒸し焼きにします（約5分）。\n",
            "   - 蓋を外して水分を飛ばし、更に少し焼いてカリッと仕上げます。\n",
            "\n",
            "5. **盛り付け**:\n",
            "   - 焼きあがった餃子を皿に盛り、ポン酢や酢醤油、ラー油でお好みで楽しんでください。\n",
            "\n",
            "### 召し上がれ！\n",
            "焼きたての餃子は外はカリッと中はジューシーで、とても美味しいです。ぜひお試しください！\n"
          ]
        }
      ]
    },
    {
      "cell_type": "code",
      "source": [
        "response = client.chat.completions.create(\n",
        "    model=\"gpt-4o-mini\",\n",
        "    messages=[\n",
        "        {\n",
        "            \"role\": \"system\",\n",
        "            \"content\": \"入力をポジティブ・ネガティブ・中立のどれかに分類してください。\",\n",
        "        },\n",
        "        {\n",
        "            \"role\": \"user\",\n",
        "            \"content\": \"ChatGPTはプログラミングの悩みごとを何も解決してくれない\",\n",
        "        },\n",
        "    ],\n",
        ")\n",
        "print(response.choices[0].message.content)"
      ],
      "metadata": {
        "colab": {
          "base_uri": "https://localhost:8080/"
        },
        "id": "pyqPqOpdIhhA",
        "outputId": "9d96a8cd-6dca-4f77-b2c8-4cf199dcb4a3"
      },
      "execution_count": null,
      "outputs": [
        {
          "output_type": "stream",
          "name": "stdout",
          "text": [
            "ネガティブ\n"
          ]
        }
      ]
    },
    {
      "cell_type": "code",
      "source": [
        "response = client.chat.completions.create(\n",
        "    model=\"gpt-4o-mini\",\n",
        "    messages=[\n",
        "        {\"role\": \"system\", \"content\": \"入力がAIに関係するか回答してください。\"},\n",
        "        {\"role\": \"user\", \"content\": \"ChatGPTはとても便利だ\"},\n",
        "    ],\n",
        ")\n",
        "print(response.choices[0].message.content)"
      ],
      "metadata": {
        "colab": {
          "base_uri": "https://localhost:8080/"
        },
        "id": "j6cqyw16MlbP",
        "outputId": "c9e59bc6-709b-44cf-d1a9-33b2d734e20c"
      },
      "execution_count": null,
      "outputs": [
        {
          "output_type": "stream",
          "name": "stdout",
          "text": [
            "はい、ChatGPTはさまざまな質問に答えたり、情報を提供したりするのに便利です。ユーザーのニーズに合わせて、会話や支援を行うことができます。何か具体的にお手伝いできることがあれば教えてください。\n"
          ]
        }
      ]
    },
    {
      "cell_type": "code",
      "source": [
        "response = client.chat.completions.create(\n",
        "    model=\"gpt-4o-mini\",\n",
        "    messages=[\n",
        "        {\"role\": \"system\", \"content\": \"入力がAIに関係するか回答してください。\"},\n",
        "        {\"role\": \"user\", \"content\": \"AIの進化はすごい\"},\n",
        "        {\"role\": \"assistant\", \"content\": \"true\"},\n",
        "        {\"role\": \"user\", \"content\": \"今日は良い天気だ\"},\n",
        "        {\"role\": \"assistant\", \"content\": \"false\"},\n",
        "        {\"role\": \"user\", \"content\": \"ChatGPTは便利じゃない\"},\n",
        "    ],\n",
        ")\n",
        "print(response.choices[0].message.content)"
      ],
      "metadata": {
        "colab": {
          "base_uri": "https://localhost:8080/"
        },
        "id": "d8nQqellP0DC",
        "outputId": "5c692dd7-9a57-4bb1-d3e0-39d9b375d67e"
      },
      "execution_count": null,
      "outputs": [
        {
          "output_type": "stream",
          "name": "stdout",
          "text": [
            "false\n"
          ]
        }
      ]
    },
    {
      "cell_type": "code",
      "source": [],
      "metadata": {
        "id": "3IcKB-7KSre6"
      },
      "execution_count": null,
      "outputs": []
    }
  ]
}